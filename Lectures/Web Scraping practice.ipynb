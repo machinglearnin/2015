{
 "cells": [
  {
   "cell_type": "markdown",
   "metadata": {},
   "source": [
    "# Scraping Practice"
   ]
  },
  {
   "cell_type": "code",
   "execution_count": 1,
   "metadata": {},
   "outputs": [
    {
     "ename": "ImportError",
     "evalue": "No module named secret",
     "output_type": "error",
     "traceback": [
      "\u001b[1;31m\u001b[0m",
      "\u001b[1;31mImportError\u001b[0mTraceback (most recent call last)",
      "\u001b[1;32m<ipython-input-1-f4085b62ee50>\u001b[0m in \u001b[0;36m<module>\u001b[1;34m()\u001b[0m\n\u001b[0;32m     22\u001b[0m \u001b[0msns\u001b[0m\u001b[1;33m.\u001b[0m\u001b[0mset_style\u001b[0m\u001b[1;33m(\u001b[0m\u001b[1;34m\"white\"\u001b[0m\u001b[1;33m)\u001b[0m\u001b[1;33m\u001b[0m\u001b[0m\n\u001b[0;32m     23\u001b[0m \u001b[1;33m\u001b[0m\u001b[0m\n\u001b[1;32m---> 24\u001b[1;33m \u001b[1;32mfrom\u001b[0m \u001b[0msecret\u001b[0m \u001b[1;32mimport\u001b[0m \u001b[1;33m*\u001b[0m\u001b[1;33m\u001b[0m\u001b[0m\n\u001b[0m",
      "\u001b[1;31mImportError\u001b[0m: No module named secret"
     ]
    }
   ],
   "source": [
    "## all imports\n",
    "from IPython.display import HTML\n",
    "import numpy as np\n",
    "import urllib2\n",
    "import bs4 #this is beautiful soup\n",
    "import time\n",
    "import operator\n",
    "import socket\n",
    "import cPickle\n",
    "import re # regular expressions\n",
    "\n",
    "from pandas import Series\n",
    "import pandas as pd\n",
    "from pandas import DataFrame\n",
    "\n",
    "import matplotlib\n",
    "import matplotlib.pyplot as plt\n",
    "%matplotlib inline\n",
    "\n",
    "import seaborn as sns\n",
    "sns.set_context(\"talk\")\n",
    "sns.set_style(\"white\")\n",
    "\n",
    "from secret import *"
   ]
  },
  {
   "cell_type": "markdown",
   "metadata": {},
   "source": [
    "## Finding all artice Titles on HSImpact"
   ]
  },
  {
   "cell_type": "code",
   "execution_count": 37,
   "metadata": {},
   "outputs": [],
   "source": [
    "url_to_HSImpact = \"https://hsimpact.wordpress.com/page/1/\"\n",
    "source  = urllib2.urlopen(url_to_HSImpact).read()"
   ]
  },
  {
   "cell_type": "code",
   "execution_count": 38,
   "metadata": {},
   "outputs": [],
   "source": [
    "hsimpact_webpage = bs4.BeautifulSoup(source)\n",
    "link_list_hsimpact = [l.get('href') for l in hsimpact_webpage.findAll('a')]\n",
    "external_link_list_hsimpact = [l for l in link_list_hsimpact if l is not None and l.startswith('http')]"
   ]
  },
  {
   "cell_type": "code",
   "execution_count": 65,
   "metadata": {},
   "outputs": [
    {
     "data": {
      "text/plain": [
       "['JASMINE STIDHAM CJR FRAMEWORK DEBATE WEBINAR- MONDAY, MAY 18TH AT 7 P.M. ET',\n",
       " u'HSI Podcast 121 \\u2013 Process CPs',\n",
       " 'HSI Podcast 120- Online Adjustments',\n",
       " u'New Webinar \\u2013 \\u201cApproaching the Topic without the Lens of the Policy/Kritik Binary\\u201d with Dr. Sydney Pasquinelli',\n",
       " 'Dr. Sydney Pasquinelli Debate Webinar- Wednesday, May 18th at 7 p.m. ET',\n",
       " 'Spin Class 2: Saudi at the TOC',\n",
       " u'Debate work \\u201cadjacent\\u201d',\n",
       " 'MICHIGAN PR VS. EMORY GS LIVE ZOOM CJR DEMONSTRATION DEBATE- Tonight at 7 P.M. ET',\n",
       " 'HSI Podcast 119: Online camp- reform or revolution?',\n",
       " 'Part 2 B- More on Dunning-Kruger']"
      ]
     },
     "execution_count": 65,
     "metadata": {},
     "output_type": "execute_result"
    }
   ],
   "source": [
    "base_url = \"https://hsimpact.wordpress.com/page/\"\n",
    "length_to_remove = len(\"Permalink to \")\n",
    "pages_to_read = 2\n",
    "article_titles = []\n",
    "for page_number in range(1, pages_to_read + 1):\n",
    "    source = urllib2.urlopen(base_url + str(page_number) + '/')\n",
    "    hsimpact_webpage = bs4.BeautifulSoup(source)\n",
    "    articles = hsimpact_webpage.findAll('article')\n",
    "    for article in articles:\n",
    "            article_titles.append(article.find('a').get('title')[length_to_remove:])\n",
    "article_titles"
   ]
  },
  {
   "cell_type": "markdown",
   "metadata": {},
   "source": [
    "## Finding Titles of All NYTimes Articles "
   ]
  },
  {
   "cell_type": "code",
   "execution_count": 68,
   "metadata": {
    "scrolled": true
   },
   "outputs": [
    {
     "data": {
      "text/plain": [
       "['https://www.nytimes.com/es/',\n",
       " 'https://cn.nytimes.com',\n",
       " 'https://myaccount.nytimes.com/auth/login?response_type=cookie&client_id=vi',\n",
       " 'https://www.nytimes.com/section/todayspaper',\n",
       " 'https://www.nytimes.com/section/world',\n",
       " 'https://www.nytimes.com/section/us',\n",
       " 'https://www.nytimes.com/section/politics',\n",
       " 'https://www.nytimes.com/section/nyregion',\n",
       " 'https://www.nytimes.com/section/business',\n",
       " 'https://www.nytimes.com/section/opinion',\n",
       " 'https://www.nytimes.com/section/technology',\n",
       " 'https://www.nytimes.com/section/science',\n",
       " 'https://www.nytimes.com/section/health',\n",
       " 'https://www.nytimes.com/section/sports',\n",
       " 'https://www.nytimes.com/section/arts',\n",
       " 'https://www.nytimes.com/section/books',\n",
       " 'https://www.nytimes.com/section/style',\n",
       " 'https://www.nytimes.com/section/food',\n",
       " 'https://www.nytimes.com/section/travel',\n",
       " 'https://www.nytimes.com/section/magazine',\n",
       " 'https://www.nytimes.com/section/t-magazine',\n",
       " 'https://www.nytimes.com/section/realestate',\n",
       " 'https://www.nytimes.com/video',\n",
       " 'https://www.nytimes.com/section/world',\n",
       " 'https://www.nytimes.com/section/us',\n",
       " 'https://www.nytimes.com/section/politics',\n",
       " 'https://www.nytimes.com/section/nyregion',\n",
       " 'https://www.nytimes.com/section/business',\n",
       " 'https://www.nytimes.com/section/opinion',\n",
       " 'https://www.nytimes.com/section/technology',\n",
       " 'https://www.nytimes.com/section/science',\n",
       " 'https://www.nytimes.com/section/health',\n",
       " 'https://www.nytimes.com/section/sports',\n",
       " 'https://www.nytimes.com/section/arts',\n",
       " 'https://www.nytimes.com/section/books',\n",
       " 'https://www.nytimes.com/section/style',\n",
       " 'https://www.nytimes.com/section/food',\n",
       " 'https://www.nytimes.com/section/travel',\n",
       " 'https://www.nytimes.com/section/magazine',\n",
       " 'https://www.nytimes.com/section/t-magazine',\n",
       " 'https://www.nytimes.com/section/realestate',\n",
       " 'https://www.nytimes.com/video',\n",
       " 'https://www.nytimes.com/newsletters/at-home',\n",
       " 'https://www.nytimes.com/newsletters/at-home',\n",
       " 'https://www.nytimes.com/interactive/2020/world/coronavirus-maps.html',\n",
       " 'https://www.nytimes.com/interactive/2020/us/coronavirus-us-cases.html',\n",
       " 'https://www.nytimes.com/interactive/2020/us/coronavirus-us-cases.html',\n",
       " 'https://www.nytimes.com/interactive/2020/world/europe/united-kingdom-coronavirus-cases.html',\n",
       " 'https://www.nytimes.com/interactive/2020/world/europe/united-kingdom-coronavirus-cases.html',\n",
       " 'https://www.nytimes.com/interactive/2020/world/americas/brazil-coronavirus-cases.html',\n",
       " 'https://www.nytimes.com/interactive/2020/world/americas/brazil-coronavirus-cases.html',\n",
       " 'https://www.nytimes.com/interactive/2020/world/asia/india-coronavirus-cases.html',\n",
       " 'https://www.nytimes.com/interactive/2020/world/asia/india-coronavirus-cases.html',\n",
       " 'https://www.nytimes.com/interactive/2020/world/canada/canada-coronavirus-cases.html',\n",
       " 'https://www.nytimes.com/interactive/2020/world/canada/canada-coronavirus-cases.html',\n",
       " 'https://www.nytimes.com/interactive/2020/world/americas/mexico-coronavirus-cases.html',\n",
       " 'https://www.nytimes.com/interactive/2020/world/americas/mexico-coronavirus-cases.html',\n",
       " 'https://www.nytimes.com/interactive/2020/world/coronavirus-maps.html',\n",
       " 'https://www.nytimes.com/interactive/2020/us/coronavirus-us-cases.html',\n",
       " 'https://www.nytimes.com/2020/05/18/business/stock-market-today-coronavirus.html',\n",
       " 'https://www.nytimes.com/2020/05/18/us/coronavirus-updates.html',\n",
       " 'https://www.nytimes.com/2020/05/18/business/stock-market-today-coronavirus.html?type=styln-live-updates&label=economy&index=0',\n",
       " 'https://www.nytimes.com/2020/05/18/business/stock-market-today-coronavirus.html?type=styln-live-updates&label=economy&index=0#link-5ca37f75',\n",
       " 'https://www.nytimes.com/2020/05/18/business/stock-market-today-coronavirus.html?type=styln-live-updates&label=economy&index=0#link-1204c8b2',\n",
       " 'https://www.nytimes.com/2020/05/18/business/stock-market-today-coronavirus.html?type=styln-live-updates&label=economy&index=0#link-411e0973',\n",
       " 'https://www.nytimes.com/2020/05/18/world/coronavirus-news.html?type=styln-live-updates&label=global&index=1',\n",
       " 'https://www.nytimes.com/2020/05/18/world/coronavirus-news.html?type=styln-live-updates&label=global&index=1#link-2b51ff01',\n",
       " 'https://www.nytimes.com/2020/05/18/world/coronavirus-news.html?type=styln-live-updates&label=global&index=1#link-11159368',\n",
       " 'https://www.nytimes.com/2020/05/18/world/coronavirus-news.html?type=styln-live-updates&label=global&index=1#link-1b87dc25',\n",
       " 'https://www.nytimes.com/2020/05/18/nyregion/coronavirus-new-york-update.html?type=styln-live-updates&label=new york&index=2',\n",
       " 'https://www.nytimes.com/2020/05/18/nyregion/coronavirus-new-york-update.html?type=styln-live-updates&label=new york&index=2#link-612f857d',\n",
       " 'https://www.nytimes.com/2020/05/18/nyregion/coronavirus-new-york-update.html?type=styln-live-updates&label=new york&index=2#link-142d91d3',\n",
       " 'https://www.nytimes.com/2020/05/18/nyregion/coronavirus-new-york-update.html?type=styln-live-updates&label=new york&index=2#link-47fc34f7',\n",
       " 'https://www.nytimes.com/section/opinion?pagetype=Homepage&action=click&module=Opinion',\n",
       " 'http://nyt.qualtrics.com/jfe/form/SV_eFJmKj9v0krSE0l',\n",
       " 'https://help.nytimes.com/hc/en-us/articles/115014792127-Copyright-notice',\n",
       " 'https://www.nytco.com/',\n",
       " 'https://help.nytimes.com/hc/en-us/articles/115015385887-Contact-Us',\n",
       " 'https://www.nytco.com/careers/',\n",
       " 'https://nytmediakit.com/',\n",
       " 'http://www.tbrandstudio.com/',\n",
       " 'https://help.nytimes.com/hc/en-us/articles/115014892108-Privacy-policy',\n",
       " 'https://help.nytimes.com/hc/en-us/articles/115014892108-Privacy-policy',\n",
       " 'https://help.nytimes.com/hc/en-us/articles/115014893428-Terms-of-service',\n",
       " 'https://help.nytimes.com/hc/en-us/articles/115014893968-Terms-of-sale',\n",
       " 'https://spiderbites.nytimes.com',\n",
       " 'https://help.nytimes.com/hc/en-us',\n",
       " 'https://www.nytimes.com/subscription?campaignId=37WXW']"
      ]
     },
     "execution_count": 68,
     "metadata": {},
     "output_type": "execute_result"
    }
   ],
   "source": [
    "#creates bs4 object for nytimes homepage\n",
    "nytimes_url = \"https://www.nytimes.com/\"\n",
    "nytimes_htmlcode = urllib2.urlopen(nytimes_url)\n",
    "nytimes_bsobject = bs4.BeautifulSoup(nytimes_htmlcode)\n",
    "#finds external links\n",
    "link_list_nytimes = [l.get('href') for l in nytimes_bsobject.findAll('a')]\n",
    "external_link_list_nytimes = [l for l in link_list_nytimes if l is not None and l.startswith('http')]\n",
    "external_link_list_nytimes"
   ]
  },
  {
   "cell_type": "code",
   "execution_count": 77,
   "metadata": {},
   "outputs": [
    {
     "data": {
      "text/plain": [
       "[<h2 class=\"css-nhfrhl esl82me0\">Listen to \\u2018The Daily\\u2019</h2>,\n",
       " <h2 class=\"css-nhfrhl esl82me0\">\\u2018On Tech With Shira Ovide\\u2019</h2>,\n",
       " <h2 class=\"css-nhfrhl esl82me0\">Sign Up: \\u2018At Home\\u2019</h2>,\n",
       " <h2 class=\"css-14byr0y esl82me0\"><span>U.S. Health Official Sharply Criticizes W.H.O. Over Virus Response</span></h2>,\n",
       " <h2 class=\"css-1cmu9py esl82me0\">Favorable Result Seen in First Small Human Trial of Coronavirus Vaccine</h2>,\n",
       " <h2 class=\"css-59eywo\">Live Updates</h2>,\n",
       " <h2 class=\"css-1cmu9py esl82me0\">Where Chronic Health Conditions and Coronavirus Could Collide</h2>,\n",
       " <h2 class=\"css-1cmu9py esl82me0\">Poor Countries Borrowed Billions From China. They Can\\u2019t Pay It Back.</h2>,\n",
       " <h2 class=\"css-1cmu9py esl82me0\">Thinking of Buying a Bike? Get Ready for a Very Long Wait</h2>,\n",
       " <h2 class=\"css-1vvhd4r esl82me0\"><span>Investigator Fired by Trump Had Examined Weapons Sales to Saudis</span></h2>,\n",
       " <h2 class=\"css-1cmu9py esl82me0\">Freed by Court Ruling, Republicans Step Up Effort to Patrol Voting</h2>,\n",
       " <h2 class=\"css-1cmu9py esl82me0\">Passed by for decades, Justice Clarence Thomas is a new symbol of the Trump era.</h2>,\n",
       " <h2 class=\"css-1vvhd4r esl82me0\"><span>California Offers $500 in Covid-19 Aid to Undocumented Immigrants</span></h2>,\n",
       " <h2 class=\"css-1cmu9py esl82me0\">\\u2018I Feel Like a Hero\\u2019: A Day in the Life of a Grocery Delivery Man</h2>,\n",
       " <h2 class=\"css-1cmu9py esl82me0\">The New Face of Restaurant Hospitality Wears a Mask</h2>,\n",
       " None,\n",
       " None,\n",
       " <h2 class=\"css-1vvhd4r esl82me0\"><span>Running While Black: Our Readers Respond</span></h2>,\n",
       " <h2 class=\"css-1cmu9py esl82me0\">Ahmaud Arbery\\u2019s final jog crossed a stretch of South Georgia with increasingly blurred racial boundary lines.</h2>,\n",
       " <h2 class=\"css-1gnqzz esl82me0\"><span>With the World on Pause, Salamanders Own the Road</span></h2>,\n",
       " <h2 class=\"css-1yxu27x esl82me0\">Germany Is Reopening. And Learning a Tough Lesson.</h2>,\n",
       " <h2 class=\"css-1yxu27x esl82me0\">They Care for Children and the Sick, and They\\u2019re Homeless</h2>,\n",
       " <h2 class=\"css-z9cw67 esl82me0\">Elon Musk\\u2019s Latest Gambit</h2>,\n",
       " <h2 class=\"css-z9cw67 esl82me0\">Imagining a First Post-Pandemic Kiss</h2>,\n",
       " <h2 class=\"css-z9cw67 esl82me0\">Obama Lives in Trump\\u2019s Head</h2>,\n",
       " <h2 class=\"css-z9cw67 esl82me0\">Stacey Abrams\\u2019 Election Warning</h2>,\n",
       " <h2 class=\"css-z9cw67 esl82me0\">America\\u2019s Killer Lawns</h2>,\n",
       " <h2 class=\"css-z9cw67 esl82me0\">\\u2018Believe All Women\\u2019 Is a Right-Wing Trap</h2>,\n",
       " <h2 class=\"css-z9cw67 esl82me0\">The American Dream Is Alive and Well</h2>,\n",
       " <h2 class=\"css-z9cw67 esl82me0\">Farewell, Office. You Were the Last Boundary Between Work and Home.</h2>,\n",
       " <h2 class=\"css-z9cw67 esl82me0\">7.7 Million Young People Are Unemployed. We Need a New \\u2018Tree Army.\\u2019</h2>,\n",
       " <h2 class=\"css-1gnqzz esl82me0\"><span>Eminem\\u2019s \\u2018The Marshall Mathers LP\\u2019: Hear What Came Before and After</span></h2>,\n",
       " <h2 class=\"css-1cmu9py esl82me0\">The Many Dimensions of a Princeton \\u2018Mathemagician\\u2019</h2>,\n",
       " <h2 class=\"css-1cmu9py esl82me0\">No \\u2018Prairie Home Companion\\u2019 at Sea, and So Far, No Refund, Either</h2>]"
      ]
     },
     "execution_count": 77,
     "metadata": {},
     "output_type": "execute_result"
    }
   ],
   "source": [
    "[article.h2 for article in nytimes_bsobject.findAll(\"article\")]\n"
   ]
  }
 ],
 "metadata": {
  "kernelspec": {
   "display_name": "Python 2",
   "language": "python",
   "name": "python2"
  },
  "language_info": {
   "codemirror_mode": {
    "name": "ipython",
    "version": 2
   },
   "file_extension": ".py",
   "mimetype": "text/x-python",
   "name": "python",
   "nbconvert_exporter": "python",
   "pygments_lexer": "ipython2",
   "version": "2.7.16"
  }
 },
 "nbformat": 4,
 "nbformat_minor": 2
}
