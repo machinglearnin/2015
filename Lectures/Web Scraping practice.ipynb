{
 "cells": [
  {
   "cell_type": "code",
   "execution_count": 1,
   "metadata": {},
   "outputs": [
    {
     "ename": "ImportError",
     "evalue": "No module named secret",
     "output_type": "error",
     "traceback": [
      "\u001b[1;31m\u001b[0m",
      "\u001b[1;31mImportError\u001b[0mTraceback (most recent call last)",
      "\u001b[1;32m<ipython-input-1-f4085b62ee50>\u001b[0m in \u001b[0;36m<module>\u001b[1;34m()\u001b[0m\n\u001b[0;32m     22\u001b[0m \u001b[0msns\u001b[0m\u001b[1;33m.\u001b[0m\u001b[0mset_style\u001b[0m\u001b[1;33m(\u001b[0m\u001b[1;34m\"white\"\u001b[0m\u001b[1;33m)\u001b[0m\u001b[1;33m\u001b[0m\u001b[0m\n\u001b[0;32m     23\u001b[0m \u001b[1;33m\u001b[0m\u001b[0m\n\u001b[1;32m---> 24\u001b[1;33m \u001b[1;32mfrom\u001b[0m \u001b[0msecret\u001b[0m \u001b[1;32mimport\u001b[0m \u001b[1;33m*\u001b[0m\u001b[1;33m\u001b[0m\u001b[0m\n\u001b[0m",
      "\u001b[1;31mImportError\u001b[0m: No module named secret"
     ]
    }
   ],
   "source": [
    "## all imports\n",
    "from IPython.display import HTML\n",
    "import numpy as np\n",
    "import urllib2\n",
    "import bs4 #this is beautiful soup\n",
    "import time\n",
    "import operator\n",
    "import socket\n",
    "import cPickle\n",
    "import re # regular expressions\n",
    "\n",
    "from pandas import Series\n",
    "import pandas as pd\n",
    "from pandas import DataFrame\n",
    "\n",
    "import matplotlib\n",
    "import matplotlib.pyplot as plt\n",
    "%matplotlib inline\n",
    "\n",
    "import seaborn as sns\n",
    "sns.set_context(\"talk\")\n",
    "sns.set_style(\"white\")\n",
    "\n",
    "from secret import *"
   ]
  },
  {
   "cell_type": "markdown",
   "metadata": {},
   "source": [
    "## Finding all artice Titles on HSImpact"
   ]
  },
  {
   "cell_type": "code",
   "execution_count": 37,
   "metadata": {},
   "outputs": [],
   "source": [
    "url_to_HSImpact = \"https://hsimpact.wordpress.com/page/1/\"\n",
    "source  = urllib2.urlopen(url_to_HSImpact).read()"
   ]
  },
  {
   "cell_type": "code",
   "execution_count": 38,
   "metadata": {},
   "outputs": [],
   "source": [
    "hsimpact_webpage = bs4.BeautifulSoup(source)\n",
    "link_list_hsimpact = [l.get('href') for l in hsimpact_webpage.findAll('a')]\n",
    "external_link_list_hsimpact = [l for l in link_list_hsimpact if l is not None and l.startswith('http')]"
   ]
  },
  {
   "cell_type": "code",
   "execution_count": 51,
   "metadata": {},
   "outputs": [
    {
     "ename": "NameError",
     "evalue": "name 'page_number' is not defined",
     "output_type": "error",
     "traceback": [
      "\u001b[1;31m\u001b[0m",
      "\u001b[1;31mNameError\u001b[0mTraceback (most recent call last)",
      "\u001b[1;32m<ipython-input-51-6c50c6392b29>\u001b[0m in \u001b[0;36m<module>\u001b[1;34m()\u001b[0m\n\u001b[0;32m     10\u001b[0m     \u001b[1;32mfor\u001b[0m \u001b[0marticle\u001b[0m \u001b[1;32min\u001b[0m \u001b[0marticles\u001b[0m\u001b[1;33m:\u001b[0m\u001b[1;33m\u001b[0m\u001b[0m\n\u001b[0;32m     11\u001b[0m         \u001b[0marticle_titles\u001b[0m\u001b[1;33m.\u001b[0m\u001b[0mappend\u001b[0m\u001b[1;33m(\u001b[0m\u001b[0marticle\u001b[0m\u001b[1;33m.\u001b[0m\u001b[0mfind\u001b[0m\u001b[1;33m(\u001b[0m\u001b[1;34m'a'\u001b[0m\u001b[1;33m)\u001b[0m\u001b[1;33m.\u001b[0m\u001b[0mget\u001b[0m\u001b[1;33m(\u001b[0m\u001b[1;34m'title'\u001b[0m\u001b[1;33m)\u001b[0m\u001b[1;33m[\u001b[0m\u001b[0mlength_to_remove\u001b[0m\u001b[1;33m:\u001b[0m\u001b[1;33m]\u001b[0m\u001b[1;33m)\u001b[0m\u001b[1;33m\u001b[0m\u001b[0m\n\u001b[1;32m---> 12\u001b[1;33m \u001b[0mpage_number\u001b[0m\u001b[1;33m\u001b[0m\u001b[0m\n\u001b[0m",
      "\u001b[1;31mNameError\u001b[0m: name 'page_number' is not defined"
     ]
    }
   ],
   "source": [
    "base_url = \"https://hsimpact.wordpress.com/page/\"\n",
    "length_to_remove = len(\"Permalink to \")\n",
    "pages_to_read = 2\n",
    "article_titles = []\n",
    "for page_number in range(pages_to_read, 1):\n",
    "    source = urllib2.urlopen(base_url + page_number + '/')\n",
    "    print base_url + i + '/'\n",
    "    hsimpact_webpage = bs4.BeautifulSoup(source)\n",
    "    articles = hsimpact_webpage.findAll('article')\n",
    "    for article in articles:\n",
    "        article_titles.append(article.find('a').get('title')[length_to_remove:])"
   ]
  },
  {
   "cell_type": "code",
   "execution_count": 65,
   "metadata": {},
   "outputs": [
    {
     "data": {
      "text/plain": [
       "['JASMINE STIDHAM CJR FRAMEWORK DEBATE WEBINAR- MONDAY, MAY 18TH AT 7 P.M. ET',\n",
       " u'HSI Podcast 121 \\u2013 Process CPs',\n",
       " 'HSI Podcast 120- Online Adjustments',\n",
       " u'New Webinar \\u2013 \\u201cApproaching the Topic without the Lens of the Policy/Kritik Binary\\u201d with Dr. Sydney Pasquinelli',\n",
       " 'Dr. Sydney Pasquinelli Debate Webinar- Wednesday, May 18th at 7 p.m. ET',\n",
       " 'Spin Class 2: Saudi at the TOC',\n",
       " u'Debate work \\u201cadjacent\\u201d',\n",
       " 'MICHIGAN PR VS. EMORY GS LIVE ZOOM CJR DEMONSTRATION DEBATE- Tonight at 7 P.M. ET',\n",
       " 'HSI Podcast 119: Online camp- reform or revolution?',\n",
       " 'Part 2 B- More on Dunning-Kruger']"
      ]
     },
     "execution_count": 65,
     "metadata": {},
     "output_type": "execute_result"
    }
   ],
   "source": [
    "base_url = \"https://hsimpact.wordpress.com/page/\"\n",
    "length_to_remove = len(\"Permalink to \")\n",
    "pages_to_read = 2\n",
    "article_titles = []\n",
    "for page_number in range(1, pages_to_read + 1):\n",
    "    source = urllib2.urlopen(base_url + str(page_number) + '/')\n",
    "    hsimpact_webpage = bs4.BeautifulSoup(source)\n",
    "    articles = hsimpact_webpage.findAll('article')\n",
    "    for article in articles:\n",
    "            article_titles.append(article.find('a').get('title')[length_to_remove:])\n",
    "article_titles"
   ]
  }
 ],
 "metadata": {
  "kernelspec": {
   "display_name": "Python 2",
   "language": "python",
   "name": "python2"
  },
  "language_info": {
   "codemirror_mode": {
    "name": "ipython",
    "version": 2
   },
   "file_extension": ".py",
   "mimetype": "text/x-python",
   "name": "python",
   "nbconvert_exporter": "python",
   "pygments_lexer": "ipython2",
   "version": "2.7.16"
  }
 },
 "nbformat": 4,
 "nbformat_minor": 2
}
